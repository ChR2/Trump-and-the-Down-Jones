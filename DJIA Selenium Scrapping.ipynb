{
 "cells": [
  {
   "cell_type": "markdown",
   "metadata": {},
   "source": [
    "# Scrapping Dow Jones Index"
   ]
  },
  {
   "cell_type": "code",
   "execution_count": 14,
   "metadata": {},
   "outputs": [],
   "source": [
    "# using Selenium since the point on the graph found on https://fred.stlouisfed.org/series/DJIA appear when you hover over the line on graph\n",
    "from selenium import webdriver\n",
    "from selenium.webdriver.common.keys import Keys\n",
    "import time\n",
    "from IPython.display import clear_output\n",
    "\n",
    "import os\n",
    "chromedriver = \"/Applications/chromedriver\" # path to the chromedriver executable\n",
    "os.environ[\"webdriver.chrome.driver\"] = chromedriver\n",
    "\n",
    "driver = webdriver.Chrome(chromedriver)\n",
    "driver.get(\"https://fred.stlouisfed.org/series/DJIA\")"
   ]
  },
  {
   "cell_type": "code",
   "execution_count": 15,
   "metadata": {},
   "outputs": [],
   "source": [
    "# this allows us to select and input our date range in the graph settings\n",
    "driver.find_element_by_id('input-cosd').click()\n",
    "time.sleep(2)\n",
    "driver.find_element_by_xpath(\"//span[text()='2016']\").click()\n",
    "time.sleep(2)\n",
    "driver.find_element_by_xpath(\"//span[text()='Dec']\").click()\n",
    "time.sleep(2)\n",
    "driver.find_element_by_xpath(\"//td[text()='26']\").click()"
   ]
  },
  {
   "cell_type": "code",
   "execution_count": 16,
   "metadata": {},
   "outputs": [],
   "source": [
    "# selecting graph space\n",
    "svg=driver.find_element_by_tag_name(\"svg\")"
   ]
  },
  {
   "cell_type": "code",
   "execution_count": 17,
   "metadata": {},
   "outputs": [],
   "source": [
    "rect = svg.find_element_by_class_name('highcharts-plot-background')"
   ]
  },
  {
   "cell_type": "code",
   "execution_count": 18,
   "metadata": {},
   "outputs": [],
   "source": [
    "width = int(rect.get_attribute('width'))"
   ]
  },
  {
   "cell_type": "code",
   "execution_count": 19,
   "metadata": {},
   "outputs": [],
   "source": [
    "# initializing our list to collect our data\n",
    "djia_list = []"
   ]
  },
  {
   "cell_type": "code",
   "execution_count": 20,
   "metadata": {},
   "outputs": [],
   "source": [
    "# initializing scrapping through graph\n",
    "rect.click()\n",
    "action = webdriver.common.action_chains.ActionChains(driver)\n",
    "for i, x in enumerate(range(width)):\n",
    "#     clear_output(wait=True)\n",
    "#     print('%d/%d' % (i, width))\n",
    "    action.move_to_element_with_offset(rect, x, 20)\n",
    "    action.click()\n",
    "    action.perform()\n",
    "    action.reset_actions()\n",
    "    # collecting the data\n",
    "    djia_list.append(driver.find_elements_by_class_name('highcharts-tooltip')[-1].find_element_by_tag_name('span').text.split(': '))"
   ]
  },
  {
   "cell_type": "code",
   "execution_count": 8,
   "metadata": {},
   "outputs": [
    {
     "data": {
      "text/html": [
       "<div>\n",
       "<style scoped>\n",
       "    .dataframe tbody tr th:only-of-type {\n",
       "        vertical-align: middle;\n",
       "    }\n",
       "\n",
       "    .dataframe tbody tr th {\n",
       "        vertical-align: top;\n",
       "    }\n",
       "\n",
       "    .dataframe thead th {\n",
       "        text-align: right;\n",
       "    }\n",
       "</style>\n",
       "<table border=\"1\" class=\"dataframe\">\n",
       "  <thead>\n",
       "    <tr style=\"text-align: right;\">\n",
       "      <th></th>\n",
       "      <th>Date</th>\n",
       "      <th>DayIndex</th>\n",
       "    </tr>\n",
       "  </thead>\n",
       "  <tbody>\n",
       "    <tr>\n",
       "      <th>0</th>\n",
       "      <td>Tue, Dec 27, 2016</td>\n",
       "      <td>19,945.04</td>\n",
       "    </tr>\n",
       "    <tr>\n",
       "      <th>1</th>\n",
       "      <td>Tue, Dec 27, 2016</td>\n",
       "      <td>19,945.04</td>\n",
       "    </tr>\n",
       "    <tr>\n",
       "      <th>2</th>\n",
       "      <td>Tue, Dec 27, 2016</td>\n",
       "      <td>19,945.04</td>\n",
       "    </tr>\n",
       "    <tr>\n",
       "      <th>3</th>\n",
       "      <td>Tue, Dec 27, 2016</td>\n",
       "      <td>19,945.04</td>\n",
       "    </tr>\n",
       "    <tr>\n",
       "      <th>4</th>\n",
       "      <td>Wed, Dec 28, 2016</td>\n",
       "      <td>19,833.68</td>\n",
       "    </tr>\n",
       "  </tbody>\n",
       "</table>\n",
       "</div>"
      ],
      "text/plain": [
       "                Date   DayIndex\n",
       "0  Tue, Dec 27, 2016  19,945.04\n",
       "1  Tue, Dec 27, 2016  19,945.04\n",
       "2  Tue, Dec 27, 2016  19,945.04\n",
       "3  Tue, Dec 27, 2016  19,945.04\n",
       "4  Wed, Dec 28, 2016  19,833.68"
      ]
     },
     "execution_count": 8,
     "metadata": {},
     "output_type": "execute_result"
    }
   ],
   "source": [
    "# putting the data in dija_list into panda data frame\n",
    "import pandas as pd\n",
    "df = pd.DataFrame(djia_list, columns=['Date', 'DayIndex'])\n",
    "df.head()"
   ]
  },
  {
   "cell_type": "code",
   "execution_count": 9,
   "metadata": {},
   "outputs": [
    {
     "name": "stdout",
     "output_type": "stream",
     "text": [
      "<class 'pandas.core.frame.DataFrame'>\n",
      "RangeIndex: 1049 entries, 0 to 1048\n",
      "Data columns (total 2 columns):\n",
      "Date        1049 non-null object\n",
      "DayIndex    1049 non-null object\n",
      "dtypes: object(2)\n",
      "memory usage: 16.5+ KB\n"
     ]
    }
   ],
   "source": [
    "df.info()"
   ]
  },
  {
   "cell_type": "code",
   "execution_count": 10,
   "metadata": {
    "scrolled": true
   },
   "outputs": [],
   "source": [
    "# cleaning data. Switiching date strings to datetime objects \n",
    "df['Date'] = pd.to_datetime(df['Date'])\n",
    "\n",
    "# switching the index values from string to float and removing commas\n",
    "df['DayIndex'] = df['DayIndex'].apply(lambda x: float(x.replace(',', '')))\n",
    "#df.set_index('Date', inplace=True)"
   ]
  },
  {
   "cell_type": "code",
   "execution_count": 11,
   "metadata": {
    "scrolled": true
   },
   "outputs": [
    {
     "data": {
      "text/html": [
       "<div>\n",
       "<style scoped>\n",
       "    .dataframe tbody tr th:only-of-type {\n",
       "        vertical-align: middle;\n",
       "    }\n",
       "\n",
       "    .dataframe tbody tr th {\n",
       "        vertical-align: top;\n",
       "    }\n",
       "\n",
       "    .dataframe thead th {\n",
       "        text-align: right;\n",
       "    }\n",
       "</style>\n",
       "<table border=\"1\" class=\"dataframe\">\n",
       "  <thead>\n",
       "    <tr style=\"text-align: right;\">\n",
       "      <th></th>\n",
       "      <th>Date</th>\n",
       "      <th>DayIndex</th>\n",
       "    </tr>\n",
       "  </thead>\n",
       "  <tbody>\n",
       "    <tr>\n",
       "      <th>0</th>\n",
       "      <td>2016-12-27</td>\n",
       "      <td>19945.04</td>\n",
       "    </tr>\n",
       "    <tr>\n",
       "      <th>4</th>\n",
       "      <td>2016-12-28</td>\n",
       "      <td>19833.68</td>\n",
       "    </tr>\n",
       "    <tr>\n",
       "      <th>6</th>\n",
       "      <td>2016-12-29</td>\n",
       "      <td>19819.78</td>\n",
       "    </tr>\n",
       "    <tr>\n",
       "      <th>8</th>\n",
       "      <td>2016-12-30</td>\n",
       "      <td>19762.60</td>\n",
       "    </tr>\n",
       "    <tr>\n",
       "      <th>14</th>\n",
       "      <td>2017-01-03</td>\n",
       "      <td>19881.76</td>\n",
       "    </tr>\n",
       "  </tbody>\n",
       "</table>\n",
       "</div>"
      ],
      "text/plain": [
       "         Date  DayIndex\n",
       "0  2016-12-27  19945.04\n",
       "4  2016-12-28  19833.68\n",
       "6  2016-12-29  19819.78\n",
       "8  2016-12-30  19762.60\n",
       "14 2017-01-03  19881.76"
      ]
     },
     "execution_count": 11,
     "metadata": {},
     "output_type": "execute_result"
    }
   ],
   "source": [
    "# dropping duplicates since there are many. for loop checked at every pixel until end of graph to ensure no points were missed.\n",
    "df.drop_duplicates(inplace = True)\n",
    "df.sort_values(by= 'Date').head()\n"
   ]
  },
  {
   "cell_type": "code",
   "execution_count": 12,
   "metadata": {},
   "outputs": [
    {
     "data": {
      "text/plain": [
       "<matplotlib.axes._subplots.AxesSubplot at 0x112aae0b8>"
      ]
     },
     "execution_count": 12,
     "metadata": {},
     "output_type": "execute_result"
    }
   ],
   "source": [
    "# plot to check \n",
    "df.set_index('Date', inplace=True)\n",
    "df.plot()"
   ]
  },
  {
   "cell_type": "code",
   "execution_count": 13,
   "metadata": {},
   "outputs": [],
   "source": [
    "# If I just wanted to click the csv button and download my data \n",
    "\n",
    "#driver.find_elements_by_class_name('highcharts-tooltip')\n",
    "#button = driver.find_element_by_id('download-button')\n",
    "#button.click()\n",
    "#data = driver.find_element_by_id('download-data-csv')\n",
    "#data.click()"
   ]
  },
  {
   "cell_type": "code",
   "execution_count": null,
   "metadata": {},
   "outputs": [],
   "source": []
  }
 ],
 "metadata": {
  "kernelspec": {
   "display_name": "Python 3",
   "language": "python",
   "name": "python3"
  },
  "language_info": {
   "codemirror_mode": {
    "name": "ipython",
    "version": 3
   },
   "file_extension": ".py",
   "mimetype": "text/x-python",
   "name": "python",
   "nbconvert_exporter": "python",
   "pygments_lexer": "ipython3",
   "version": "3.6.5"
  }
 },
 "nbformat": 4,
 "nbformat_minor": 2
}
